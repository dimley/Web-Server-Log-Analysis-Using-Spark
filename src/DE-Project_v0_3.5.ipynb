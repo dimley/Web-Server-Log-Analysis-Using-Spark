{
  "cells": [
    {
      "cell_type": "markdown",
      "metadata": {
        "id": "EbTR1bgRvjLe"
      },
      "source": [
        "#### DA 231o Data Engineering at Scale (August 2023)\n",
        "# Project : Web Server Log Analysis Using Spark\n",
        "\n",
        "## version: 1\n",
        "\n",
        "### Change Log\n",
        "v0.1, 2023-09-06: Creation of the template\n"
      ]
    },
    {
      "cell_type": "markdown",
      "metadata": {
        "id": "LDtWDLMHlL84"
      },
      "source": [
        "##Abstract:  \n",
        "Web server log analysis can be a potential solution to various problems related to understanding and optimizing web based system and services. Some major problems for which web server analysis can include User Behaviour analysis, performance monitoring, E-commerce optimization, Ad Campaign effectiveness etc. This can also help in server monitoring and taking decision for service scale up/down. Thus, can save from getting startled in case of increased load into server.\n",
        "The goal of the project is to perform comprehensive analysis of any information which contains data from http /http2 URLs which can be from any sector, e-commerce logs, telecom logs, finance logs etc."
      ]
    },
    {
      "cell_type": "markdown",
      "metadata": {
        "id": "5oPswHOwj690"
      },
      "source": [
        "---\n",
        "\n",
        "## Problem Domain and Dataset\n",
        "\n",
        "In Web domain of HTTP based server client architecture, most of the system suffers through different kind of attacks. This attacks can be of differente magnitude ranging from service unavailability, command execution, data leaking and malicious response from the server.\n",
        "One such case we are trying to analyze based on the real world data set available to us. In this project we have tried to manifest the same scenario in telecom domain, where with the progress to 5G architecture this kind of situation is anticipated.\n",
        "\n",
        "Though there are several techniques in the 5G architecture it self to address this issues, but when deployed at private network level still malicious attacks are common threat for any operator.\n",
        "\n",
        "\n",
        "##Dataset\n",
        "\n",
        "We have captured the HTTP based req/response for some of the vital network functions in 5G network. Mostly from different span.\n",
        "Also we have a dataset which contains the suspicious attacks that have been detected at the as per the behavior of that particular device or channel.\n",
        "So, with these dataset we will try to analyze the impact on each network function and segregate different kind of attacks. Also we will manifest the behavior of each network function during these attacks.\n",
        "\n",
        "*** Network function are basically web server.\n",
        "\n",
        "* **Attacks.csv**: Each row in this file contains details about the connections that were made to the servers. Some of the connection are harmless where as few are detected by the ingress controller as malicious. With this dataset we can analyze the impact on different core network functions.\n",
        "```\n",
        "-- ts|uid|id.orig_h|id.orig_p|id.resp_h|id.resp_p|proto|service|duration|orig_bytes|resp_bytes|conn_state|local_orig|local_resp|missed_bytes|history|orig_pkts|orig_ip_bytes|resp_pkts|resp_ip_bytes|tunnel_parents|label|detailed-label: string (nullable = true)\n",
        "```\n",
        "More details are  here: [Any external link]\n",
        "\n",
        "\n",
        "* **server_behavior.csv**: This file contains the HTTP req/res with failure result code from the network functions at several spans. There can be erroneous response from the function based on different cases. But the 500 series of HTTP error code shall be on our focus. It reflects the imapct on the network function out attack like DOS and DDOS.\n",
        " ```|-- No : integer (nullable = true) ```\n",
        "\n",
        " ```|-- Time: string (nullable = true)```\n",
        "\n",
        " ```|-- Source: string (nullable = true)```\n",
        "\n",
        " ```|-- Destination: string (nullable = true)```\n",
        "\n",
        " ```|-- Source Port : string (nullable = true)```\n",
        "\n",
        " ```|-- Destination Port: string (nullable = true)```\n",
        "\n",
        " ```|-- Protocol: string (nullable = true)```\n",
        "\n",
        " ```|-- Length: integer (nullable = true)```\n",
        "\n",
        " ```|-- Status: string (nullable = true)```\n",
        "\n",
        " ```|-- Info: string (nullable = true)```\n"
      ]
    },
    {
      "cell_type": "markdown",
      "metadata": {
        "id": "Enjs-18ywexf"
      },
      "source": [
        "Install Spark/Hadoop and Python dependencies"
      ]
    },
    {
      "cell_type": "code",
      "execution_count": 55,
      "metadata": {
        "colab": {
          "base_uri": "https://localhost:8080/"
        },
        "id": "FOG-4wjov462",
        "outputId": "bb7792d9-83a7-4ec0-cf5e-73b5a75ec32a"
      },
      "outputs": [
        {
          "output_type": "stream",
          "name": "stdout",
          "text": [
            "Mounted at /content/drive\n",
            "-r-------- 1 root root 220400553 Sep  4 09:38 /content/drive/Shareddrives/DA231-2023/assignments/spark-3.0.3-bin-hadoop2.7.tgz\n"
          ]
        }
      ],
      "source": [
        "#######################################\n",
        "###!@0 START INIT ENVIRONMENT\n",
        "from google.colab import drive\n",
        "drive.mount('/content/drive', force_remount=True)\n",
        "!ls -al /content/drive/Shareddrives/DA231-2023/assignments/spark-3.0.3-bin-hadoop2.7.tgz\n",
        "!apt-get install openjdk-8-jdk-headless -qq > /dev/null\n",
        "!tar xf /content/drive/Shareddrives/DA231-2023/assignments/spark-3.0.3-bin-hadoop2.7.tgz\n",
        "!pip install -q findspark\n",
        "import os\n",
        "os.environ[\"JAVA_HOME\"] = \"/usr/lib/jvm/java-8-openjdk-amd64\"\n",
        "os.environ[\"SPARK_HOME\"] = \"/content/spark-3.0.3-bin-hadoop2.7\"\n",
        "###!@0 END INIT ENVIRONMENT"
      ]
    },
    {
      "cell_type": "markdown",
      "metadata": {
        "id": "_fkN7_xTz2lU"
      },
      "source": [
        " Standard initialization for the Spark session."
      ]
    },
    {
      "cell_type": "code",
      "execution_count": 56,
      "metadata": {
        "colab": {
          "base_uri": "https://localhost:8080/",
          "height": 219
        },
        "id": "4uoyS0BzhjVp",
        "outputId": "894516f9-615d-46c4-a7f8-f3abc74a484e"
      },
      "outputs": [
        {
          "output_type": "execute_result",
          "data": {
            "text/plain": [
              "<pyspark.sql.session.SparkSession at 0x7ed2cc4e5f00>"
            ],
            "text/html": [
              "\n",
              "            <div>\n",
              "                <p><b>SparkSession - in-memory</b></p>\n",
              "                \n",
              "        <div>\n",
              "            <p><b>SparkContext</b></p>\n",
              "\n",
              "            <p><a href=\"http://66dcce66543d:4050\">Spark UI</a></p>\n",
              "\n",
              "            <dl>\n",
              "              <dt>Version</dt>\n",
              "                <dd><code>v3.0.3</code></dd>\n",
              "              <dt>Master</dt>\n",
              "                <dd><code>local</code></dd>\n",
              "              <dt>AppName</dt>\n",
              "                <dd><code>MyApp</code></dd>\n",
              "            </dl>\n",
              "        </div>\n",
              "        \n",
              "            </div>\n",
              "        "
            ]
          },
          "metadata": {},
          "execution_count": 56
        }
      ],
      "source": [
        "#######################################\n",
        "###!@1 START OF PYSPARK INIT\n",
        "import findspark\n",
        "findspark.init()\n",
        "findspark.find()\n",
        "from pyspark.sql import SparkSession\n",
        "input_type = 'sample'\n",
        "spark = SparkSession.builder\\\n",
        "         .master(\"local\")\\\n",
        "         .appName(\"MyApp\")\\\n",
        "         .config('spark.ui.port', '4050')\\\n",
        "         .getOrCreate()\n",
        "spark\n",
        "# Spark is ready to go within Colab!\n",
        "###!@1 END OF PYSPARK INIT"
      ]
    },
    {
      "cell_type": "code",
      "execution_count": 56,
      "metadata": {
        "id": "ihkdapK6kOeW"
      },
      "outputs": [],
      "source": []
    },
    {
      "cell_type": "markdown",
      "metadata": {
        "id": "6TQDv4Ye1-dw"
      },
      "source": [
        "### Initialize all the variables"
      ]
    },
    {
      "cell_type": "code",
      "execution_count": 57,
      "metadata": {
        "id": "plfft8xr1xgm"
      },
      "outputs": [],
      "source": [
        "\n",
        "#######################################\n",
        "###!@2 START OF DEFINING INPUT FILES\n",
        "basepath = \"/content/drive/MyDrive/content/\"\n",
        "Attack_dataset = basepath + \"Attack_details1.csv\"\n",
        "Server_status_dataset = basepath + \"server_status.csv\"\n",
        "Maintenance_dataset = basepath + \"maintanence_schedule.csv\"\n",
        "\n",
        "df_StatusData = spark.read.csv(Server_status_dataset, header=True, inferSchema=True)\n",
        "df_AttackData = spark.read.csv(Attack_dataset, header=True, inferSchema=True)\n",
        "df_MaintaData = spark.read.csv(Maintenance_dataset, header=True, inferSchema=True)\n",
        "###!@3 END OF LOADING DATA"
      ]
    },
    {
      "cell_type": "markdown",
      "metadata": {
        "id": "BONQuI9sxSNj"
      },
      "source": [
        "### Common Imports\n"
      ]
    },
    {
      "cell_type": "code",
      "execution_count": 58,
      "metadata": {
        "id": "RWkj6AQdxVAL"
      },
      "outputs": [],
      "source": [
        "#######################################\n",
        "###!@5 START COMMON USER IMPORTS\n",
        "#######################################\n",
        "## Specify valid imports, if any, common to ALL your answers  ==========\n",
        "## start your edits here =================\n",
        "import math\n",
        "import time\n",
        "from datetime import datetime\n",
        "from pyspark.sql.types import StructType, StructField, StringType, DoubleType, IntegerType\n",
        "from pyspark.sql.functions import *\n",
        "from matplotlib import pyplot as plt\n",
        "import plotly.express as px\n",
        "import numpy as np\n",
        "\n",
        "## end your edits here =============="
      ]
    },
    {
      "cell_type": "markdown",
      "metadata": {
        "id": "Y_j2OeZ0lL88"
      },
      "source": [
        "### Utility APIs"
      ]
    },
    {
      "cell_type": "code",
      "execution_count": 59,
      "metadata": {
        "id": "KV-XXmLCxVK4"
      },
      "outputs": [],
      "source": [
        "#######################################\n",
        "###!@6 START COMMON USER FUNCTIONS\n",
        "#######################################\n",
        "## Specify user defined functions, if any, common to ALL your answers   =====\n",
        "## start your edits here =================\n",
        "\n",
        "\n",
        "def get_labels(AttackCleanedDF):\n",
        "  return AttackCleanedDF.select(\"label\").distinct().rdd.flatMap(lambda x: x).collect()\n",
        "\n",
        "\n",
        "\n",
        "\n",
        "\n",
        "\n",
        "## end your edits here =================\n",
        "###!@6 END COMMON USER FUNCTIONS"
      ]
    },
    {
      "cell_type": "markdown",
      "metadata": {
        "id": "F5l_cSWnDrAw"
      },
      "source": [
        "### ---\n",
        "### **1) Data Parsing and Cleaning (DATA Munging)**\n",
        "\n",
        "***Context:*** *Data Science in the wild requires data preparation and cleaning before you can perform exploratory analysis on them. This can include parsing, removing invalid fields, extrapolation, etc. Let's try a flavor of it here.*\n",
        "\n",
        "### **Below is the output for raw data structure from dataset.**\n",
        "## **Attach.CSV**\n",
        " ```\n",
        " |-- timestamp: string (nullable = true)\n",
        " |-- id_orig_h: string (nullable = true)\n",
        " |-- id_orig_p: string (nullable = true)\n",
        " |-- id_resp_h: string (nullable = true)\n",
        " |-- id_resp_p: string (nullable = true)\n",
        " |-- proto: string (nullable = true)\n",
        " |-- detailed-label: string (nullable = true)\n",
        " ```\n",
        "\n",
        "### **Server_behavior.csv**\n",
        " ```\n",
        "|-- No : integer (nullable = true)\n",
        "# |-- Time: string (nullable = true)\n",
        "\n",
        "*   List item\n",
        "*   List item\n",
        "\n",
        "\n",
        "|-- Source: string (nullable = true)\n",
        "|-- Destination: string (nullable = true)\n",
        "|-- Source Port : string (nullable = true)\n",
        "|-- Destination Port: string (nullable = true)\n",
        "|-- Protocol: string (nullable = true)\n",
        "|-- Length: integer (nullable = true)\n",
        "|-- Status: string (nullable = true)\n",
        "|-- Info: string (nullable = true)\n",
        "```\n",
        "\n",
        "We need to perform DATA munging activity to clean and formalize the data for further data processing. So below code shall perform DATA munging activity.\n",
        "Activity:\n",
        "    1. Convert Attack.csv into csv.\n",
        "    2. Remove any entries with empty source and destination IP port\n",
        "    3. Convert the timestamp from UNIX format to readable format.\n",
        "    4. Convert the column name to same format. Remove \".\" from column name."
      ]
    },
    {
      "cell_type": "code",
      "execution_count": 60,
      "metadata": {
        "colab": {
          "base_uri": "https://localhost:8080/"
        },
        "id": "iBujVoUkE0Gk",
        "outputId": "f485fc67-251e-4380-8403-f112d3e11451"
      },
      "outputs": [
        {
          "output_type": "stream",
          "name": "stdout",
          "text": [
            "190001\n"
          ]
        }
      ],
      "source": [
        "#######################################\n",
        "###convert Attack dataset to csv format\n",
        "data = spark.read.text(Attack_dataset)\n",
        "header = data.first().value.split(\"|\")\n",
        "schema = StructType([StructField(name, StringType(), True) for name in header])\n",
        "\n",
        "# Skip the first line (header) and split the remaining lines\n",
        "lines =  data.rdd.zipWithIndex().map(lambda x: x[0].value.split(\"|\")).filter(lambda row: len(row) == len(header))\n",
        "# Create a DataFrame from the cleaned data and schema\n",
        "df = spark.createDataFrame(lines, schema=schema)\n",
        "print(df.count())\n",
        "\n",
        "##convert the  ts fields from unix timestamp to readable format.\n",
        "df = df.withColumn(\"timestamp\", from_unixtime(\"ts\"))\n",
        "df = df.drop(\"ts\")\n",
        "\n",
        "##remove \".\" from the coulmn names\n",
        "new_column_names = []\n",
        "for column_name in df.columns:\n",
        "    new_column_name = column_name.replace(\".\", \"_\")\n",
        "    new_column_names.append(new_column_name)\n",
        "\n",
        "#Rename the columns\n",
        "for i, old_name in enumerate(df.columns):\n",
        "    df = df.withColumnRenamed(old_name, new_column_names[i])\n",
        "\n",
        "# Reorder the columns to have \"timestamp\" at the beginning\n",
        "column_order = [\"timestamp\"] + [col_name for col_name in df.columns if col_name != \"timestamp\"]\n",
        "df =df.select(column_order)\n",
        "\n",
        "###Select the relevant column for our operation\n",
        "AttackCleanedDF = df.select(\"timestamp\", \"id_orig_h\", \"id_orig_p\", \"id_resp_h\", \"id_resp_p\", 'proto', 'duration', 'label')\n",
        "#AttackCleanedDF.show()\n",
        "#AttackCleanedDF.printSchema()\n",
        "\n",
        "## No cleaning is required for Server_Details and Maintenance_schedule dataset\n",
        "\n",
        "## end your edits here ================="
      ]
    },
    {
      "cell_type": "markdown",
      "metadata": {
        "id": "aRnuAsRSE0jL"
      },
      "source": [
        "### **2) Removal of BENIGN only sources from the data set**\n",
        "a). Check if there is any source which later on turned into an attacker.\n",
        "\n",
        "b). Remove sources with no attack from the dataset. Keep source with both (BENIGN and MALICIOUS) or only MALICIOUS role.\n",
        "\n"
      ]
    },
    {
      "cell_type": "code",
      "execution_count": 61,
      "metadata": {
        "id": "WT1LIoXPE2qY"
      },
      "outputs": [],
      "source": [
        "#AttackCleanedDF.persist()\n",
        "#AttackSampleDF = AttackCleanedDF.sample(False, 1.0)\n",
        "#AttackCleanedDF.show(10)#select('id_orig_h').distinct().show(10)\n",
        "#StatusSample = df_StatusData.sample(False, 0.1)\n",
        "#df_StatusData.persist()\n",
        "#AttackCleanedDF.show()\n",
        "#df_StatusData.show()"
      ]
    },
    {
      "cell_type": "markdown",
      "metadata": {
        "id": "XmWxjvXcOmfM"
      },
      "source": [
        "\n",
        "##In this section we will see three types of sources\n",
        "1. Pure Benign Source\n",
        "2. Pure Malicious Source\n",
        "3. Mixed Source\n",
        "\n"
      ]
    },
    {
      "cell_type": "code",
      "execution_count": 62,
      "metadata": {
        "colab": {
          "base_uri": "https://localhost:8080/",
          "height": 1000
        },
        "id": "wsMRPhxvN0-t",
        "outputId": "c6bf6eb3-18d0-46ab-9064-3d537d462998"
      },
      "outputs": [
        {
          "output_type": "stream",
          "name": "stdout",
          "text": [
            "+---------------+--------------+\n",
            "|      id_orig_h|          type|\n",
            "+---------------+--------------+\n",
            "|  148.7.119.186|         Mixed|\n",
            "|     45.45.97.1|         Mixed|\n",
            "|   96.230.88.85|         Mixed|\n",
            "| 227.250.86.193|         Mixed|\n",
            "| 219.201.229.10|         Mixed|\n",
            "| 230.94.179.188|         Mixed|\n",
            "| 218.35.211.232|         Mixed|\n",
            "|    196.42.8.41|         Mixed|\n",
            "|222.137.115.221|         Mixed|\n",
            "|   87.84.12.190|         Mixed|\n",
            "| 100.58.123.114|         Mixed|\n",
            "|  251.254.61.13|         Mixed|\n",
            "|   12.153.68.15|Pure Malicious|\n",
            "| 116.38.152.250|Pure Malicious|\n",
            "|  202.168.82.44|Pure Malicious|\n",
            "|  163.188.41.56|Pure Malicious|\n",
            "| 186.176.198.91|Pure Malicious|\n",
            "|191.239.186.214|Pure Malicious|\n",
            "|197.143.150.124|Pure Malicious|\n",
            "|  55.195.151.17|Pure Malicious|\n",
            "+---------------+--------------+\n",
            "only showing top 20 rows\n",
            "\n",
            "+--------------+-----+\n",
            "|          type|count|\n",
            "+--------------+-----+\n",
            "|Pure Malicious|   15|\n",
            "|         Mixed|   12|\n",
            "|   Pure Benign|29061|\n",
            "+--------------+-----+\n",
            "\n"
          ]
        },
        {
          "output_type": "display_data",
          "data": {
            "text/html": [
              "<html>\n",
              "<head><meta charset=\"utf-8\" /></head>\n",
              "<body>\n",
              "    <div>            <script src=\"https://cdnjs.cloudflare.com/ajax/libs/mathjax/2.7.5/MathJax.js?config=TeX-AMS-MML_SVG\"></script><script type=\"text/javascript\">if (window.MathJax && window.MathJax.Hub && window.MathJax.Hub.Config) {window.MathJax.Hub.Config({SVG: {font: \"STIX-Web\"}});}</script>                <script type=\"text/javascript\">window.PlotlyConfig = {MathJaxConfig: 'local'};</script>\n",
              "        <script charset=\"utf-8\" src=\"https://cdn.plot.ly/plotly-2.24.1.min.js\"></script>                <div id=\"743d6d56-2253-4dcb-bac9-1c6a09e757f5\" class=\"plotly-graph-div\" style=\"height:525px; width:100%;\"></div>            <script type=\"text/javascript\">                                    window.PLOTLYENV=window.PLOTLYENV || {};                                    if (document.getElementById(\"743d6d56-2253-4dcb-bac9-1c6a09e757f5\")) {                    Plotly.newPlot(                        \"743d6d56-2253-4dcb-bac9-1c6a09e757f5\",                        [{\"domain\":{\"x\":[0.0,1.0],\"y\":[0.0,1.0]},\"hovertemplate\":\"type=%{label}\\u003cbr\\u003ecount=%{value}\\u003cextra\\u003e\\u003c\\u002fextra\\u003e\",\"labels\":[\"Pure Malicious\",\"Mixed\",\"Pure Benign\"],\"legendgroup\":\"\",\"name\":\"\",\"showlegend\":true,\"values\":[15,12,29061],\"type\":\"pie\"}],                        {\"template\":{\"data\":{\"histogram2dcontour\":[{\"type\":\"histogram2dcontour\",\"colorbar\":{\"outlinewidth\":0,\"ticks\":\"\"},\"colorscale\":[[0.0,\"#0d0887\"],[0.1111111111111111,\"#46039f\"],[0.2222222222222222,\"#7201a8\"],[0.3333333333333333,\"#9c179e\"],[0.4444444444444444,\"#bd3786\"],[0.5555555555555556,\"#d8576b\"],[0.6666666666666666,\"#ed7953\"],[0.7777777777777778,\"#fb9f3a\"],[0.8888888888888888,\"#fdca26\"],[1.0,\"#f0f921\"]]}],\"choropleth\":[{\"type\":\"choropleth\",\"colorbar\":{\"outlinewidth\":0,\"ticks\":\"\"}}],\"histogram2d\":[{\"type\":\"histogram2d\",\"colorbar\":{\"outlinewidth\":0,\"ticks\":\"\"},\"colorscale\":[[0.0,\"#0d0887\"],[0.1111111111111111,\"#46039f\"],[0.2222222222222222,\"#7201a8\"],[0.3333333333333333,\"#9c179e\"],[0.4444444444444444,\"#bd3786\"],[0.5555555555555556,\"#d8576b\"],[0.6666666666666666,\"#ed7953\"],[0.7777777777777778,\"#fb9f3a\"],[0.8888888888888888,\"#fdca26\"],[1.0,\"#f0f921\"]]}],\"heatmap\":[{\"type\":\"heatmap\",\"colorbar\":{\"outlinewidth\":0,\"ticks\":\"\"},\"colorscale\":[[0.0,\"#0d0887\"],[0.1111111111111111,\"#46039f\"],[0.2222222222222222,\"#7201a8\"],[0.3333333333333333,\"#9c179e\"],[0.4444444444444444,\"#bd3786\"],[0.5555555555555556,\"#d8576b\"],[0.6666666666666666,\"#ed7953\"],[0.7777777777777778,\"#fb9f3a\"],[0.8888888888888888,\"#fdca26\"],[1.0,\"#f0f921\"]]}],\"heatmapgl\":[{\"type\":\"heatmapgl\",\"colorbar\":{\"outlinewidth\":0,\"ticks\":\"\"},\"colorscale\":[[0.0,\"#0d0887\"],[0.1111111111111111,\"#46039f\"],[0.2222222222222222,\"#7201a8\"],[0.3333333333333333,\"#9c179e\"],[0.4444444444444444,\"#bd3786\"],[0.5555555555555556,\"#d8576b\"],[0.6666666666666666,\"#ed7953\"],[0.7777777777777778,\"#fb9f3a\"],[0.8888888888888888,\"#fdca26\"],[1.0,\"#f0f921\"]]}],\"contourcarpet\":[{\"type\":\"contourcarpet\",\"colorbar\":{\"outlinewidth\":0,\"ticks\":\"\"}}],\"contour\":[{\"type\":\"contour\",\"colorbar\":{\"outlinewidth\":0,\"ticks\":\"\"},\"colorscale\":[[0.0,\"#0d0887\"],[0.1111111111111111,\"#46039f\"],[0.2222222222222222,\"#7201a8\"],[0.3333333333333333,\"#9c179e\"],[0.4444444444444444,\"#bd3786\"],[0.5555555555555556,\"#d8576b\"],[0.6666666666666666,\"#ed7953\"],[0.7777777777777778,\"#fb9f3a\"],[0.8888888888888888,\"#fdca26\"],[1.0,\"#f0f921\"]]}],\"surface\":[{\"type\":\"surface\",\"colorbar\":{\"outlinewidth\":0,\"ticks\":\"\"},\"colorscale\":[[0.0,\"#0d0887\"],[0.1111111111111111,\"#46039f\"],[0.2222222222222222,\"#7201a8\"],[0.3333333333333333,\"#9c179e\"],[0.4444444444444444,\"#bd3786\"],[0.5555555555555556,\"#d8576b\"],[0.6666666666666666,\"#ed7953\"],[0.7777777777777778,\"#fb9f3a\"],[0.8888888888888888,\"#fdca26\"],[1.0,\"#f0f921\"]]}],\"mesh3d\":[{\"type\":\"mesh3d\",\"colorbar\":{\"outlinewidth\":0,\"ticks\":\"\"}}],\"scatter\":[{\"fillpattern\":{\"fillmode\":\"overlay\",\"size\":10,\"solidity\":0.2},\"type\":\"scatter\"}],\"parcoords\":[{\"type\":\"parcoords\",\"line\":{\"colorbar\":{\"outlinewidth\":0,\"ticks\":\"\"}}}],\"scatterpolargl\":[{\"type\":\"scatterpolargl\",\"marker\":{\"colorbar\":{\"outlinewidth\":0,\"ticks\":\"\"}}}],\"bar\":[{\"error_x\":{\"color\":\"#2a3f5f\"},\"error_y\":{\"color\":\"#2a3f5f\"},\"marker\":{\"line\":{\"color\":\"#E5ECF6\",\"width\":0.5},\"pattern\":{\"fillmode\":\"overlay\",\"size\":10,\"solidity\":0.2}},\"type\":\"bar\"}],\"scattergeo\":[{\"type\":\"scattergeo\",\"marker\":{\"colorbar\":{\"outlinewidth\":0,\"ticks\":\"\"}}}],\"scatterpolar\":[{\"type\":\"scatterpolar\",\"marker\":{\"colorbar\":{\"outlinewidth\":0,\"ticks\":\"\"}}}],\"histogram\":[{\"marker\":{\"pattern\":{\"fillmode\":\"overlay\",\"size\":10,\"solidity\":0.2}},\"type\":\"histogram\"}],\"scattergl\":[{\"type\":\"scattergl\",\"marker\":{\"colorbar\":{\"outlinewidth\":0,\"ticks\":\"\"}}}],\"scatter3d\":[{\"type\":\"scatter3d\",\"line\":{\"colorbar\":{\"outlinewidth\":0,\"ticks\":\"\"}},\"marker\":{\"colorbar\":{\"outlinewidth\":0,\"ticks\":\"\"}}}],\"scattermapbox\":[{\"type\":\"scattermapbox\",\"marker\":{\"colorbar\":{\"outlinewidth\":0,\"ticks\":\"\"}}}],\"scatterternary\":[{\"type\":\"scatterternary\",\"marker\":{\"colorbar\":{\"outlinewidth\":0,\"ticks\":\"\"}}}],\"scattercarpet\":[{\"type\":\"scattercarpet\",\"marker\":{\"colorbar\":{\"outlinewidth\":0,\"ticks\":\"\"}}}],\"carpet\":[{\"aaxis\":{\"endlinecolor\":\"#2a3f5f\",\"gridcolor\":\"white\",\"linecolor\":\"white\",\"minorgridcolor\":\"white\",\"startlinecolor\":\"#2a3f5f\"},\"baxis\":{\"endlinecolor\":\"#2a3f5f\",\"gridcolor\":\"white\",\"linecolor\":\"white\",\"minorgridcolor\":\"white\",\"startlinecolor\":\"#2a3f5f\"},\"type\":\"carpet\"}],\"table\":[{\"cells\":{\"fill\":{\"color\":\"#EBF0F8\"},\"line\":{\"color\":\"white\"}},\"header\":{\"fill\":{\"color\":\"#C8D4E3\"},\"line\":{\"color\":\"white\"}},\"type\":\"table\"}],\"barpolar\":[{\"marker\":{\"line\":{\"color\":\"#E5ECF6\",\"width\":0.5},\"pattern\":{\"fillmode\":\"overlay\",\"size\":10,\"solidity\":0.2}},\"type\":\"barpolar\"}],\"pie\":[{\"automargin\":true,\"type\":\"pie\"}]},\"layout\":{\"autotypenumbers\":\"strict\",\"colorway\":[\"#636efa\",\"#EF553B\",\"#00cc96\",\"#ab63fa\",\"#FFA15A\",\"#19d3f3\",\"#FF6692\",\"#B6E880\",\"#FF97FF\",\"#FECB52\"],\"font\":{\"color\":\"#2a3f5f\"},\"hovermode\":\"closest\",\"hoverlabel\":{\"align\":\"left\"},\"paper_bgcolor\":\"white\",\"plot_bgcolor\":\"#E5ECF6\",\"polar\":{\"bgcolor\":\"#E5ECF6\",\"angularaxis\":{\"gridcolor\":\"white\",\"linecolor\":\"white\",\"ticks\":\"\"},\"radialaxis\":{\"gridcolor\":\"white\",\"linecolor\":\"white\",\"ticks\":\"\"}},\"ternary\":{\"bgcolor\":\"#E5ECF6\",\"aaxis\":{\"gridcolor\":\"white\",\"linecolor\":\"white\",\"ticks\":\"\"},\"baxis\":{\"gridcolor\":\"white\",\"linecolor\":\"white\",\"ticks\":\"\"},\"caxis\":{\"gridcolor\":\"white\",\"linecolor\":\"white\",\"ticks\":\"\"}},\"coloraxis\":{\"colorbar\":{\"outlinewidth\":0,\"ticks\":\"\"}},\"colorscale\":{\"sequential\":[[0.0,\"#0d0887\"],[0.1111111111111111,\"#46039f\"],[0.2222222222222222,\"#7201a8\"],[0.3333333333333333,\"#9c179e\"],[0.4444444444444444,\"#bd3786\"],[0.5555555555555556,\"#d8576b\"],[0.6666666666666666,\"#ed7953\"],[0.7777777777777778,\"#fb9f3a\"],[0.8888888888888888,\"#fdca26\"],[1.0,\"#f0f921\"]],\"sequentialminus\":[[0.0,\"#0d0887\"],[0.1111111111111111,\"#46039f\"],[0.2222222222222222,\"#7201a8\"],[0.3333333333333333,\"#9c179e\"],[0.4444444444444444,\"#bd3786\"],[0.5555555555555556,\"#d8576b\"],[0.6666666666666666,\"#ed7953\"],[0.7777777777777778,\"#fb9f3a\"],[0.8888888888888888,\"#fdca26\"],[1.0,\"#f0f921\"]],\"diverging\":[[0,\"#8e0152\"],[0.1,\"#c51b7d\"],[0.2,\"#de77ae\"],[0.3,\"#f1b6da\"],[0.4,\"#fde0ef\"],[0.5,\"#f7f7f7\"],[0.6,\"#e6f5d0\"],[0.7,\"#b8e186\"],[0.8,\"#7fbc41\"],[0.9,\"#4d9221\"],[1,\"#276419\"]]},\"xaxis\":{\"gridcolor\":\"white\",\"linecolor\":\"white\",\"ticks\":\"\",\"title\":{\"standoff\":15},\"zerolinecolor\":\"white\",\"automargin\":true,\"zerolinewidth\":2},\"yaxis\":{\"gridcolor\":\"white\",\"linecolor\":\"white\",\"ticks\":\"\",\"title\":{\"standoff\":15},\"zerolinecolor\":\"white\",\"automargin\":true,\"zerolinewidth\":2},\"scene\":{\"xaxis\":{\"backgroundcolor\":\"#E5ECF6\",\"gridcolor\":\"white\",\"linecolor\":\"white\",\"showbackground\":true,\"ticks\":\"\",\"zerolinecolor\":\"white\",\"gridwidth\":2},\"yaxis\":{\"backgroundcolor\":\"#E5ECF6\",\"gridcolor\":\"white\",\"linecolor\":\"white\",\"showbackground\":true,\"ticks\":\"\",\"zerolinecolor\":\"white\",\"gridwidth\":2},\"zaxis\":{\"backgroundcolor\":\"#E5ECF6\",\"gridcolor\":\"white\",\"linecolor\":\"white\",\"showbackground\":true,\"ticks\":\"\",\"zerolinecolor\":\"white\",\"gridwidth\":2}},\"shapedefaults\":{\"line\":{\"color\":\"#2a3f5f\"}},\"annotationdefaults\":{\"arrowcolor\":\"#2a3f5f\",\"arrowhead\":0,\"arrowwidth\":1},\"geo\":{\"bgcolor\":\"white\",\"landcolor\":\"#E5ECF6\",\"subunitcolor\":\"white\",\"showland\":true,\"showlakes\":true,\"lakecolor\":\"white\"},\"title\":{\"x\":0.05},\"mapbox\":{\"style\":\"light\"}}},\"legend\":{\"tracegroupgap\":0},\"title\":{\"text\":\"Type Of Users\"}},                        {\"responsive\": true}                    ).then(function(){\n",
              "                            \n",
              "var gd = document.getElementById('743d6d56-2253-4dcb-bac9-1c6a09e757f5');\n",
              "var x = new MutationObserver(function (mutations, observer) {{\n",
              "        var display = window.getComputedStyle(gd).display;\n",
              "        if (!display || display === 'none') {{\n",
              "            console.log([gd, 'removed!']);\n",
              "            Plotly.purge(gd);\n",
              "            observer.disconnect();\n",
              "        }}\n",
              "}});\n",
              "\n",
              "// Listen for the removal of the full notebook cells\n",
              "var notebookContainer = gd.closest('#notebook-container');\n",
              "if (notebookContainer) {{\n",
              "    x.observe(notebookContainer, {childList: true});\n",
              "}}\n",
              "\n",
              "// Listen for the clearing of the current output cell\n",
              "var outputEl = gd.closest('.output');\n",
              "if (outputEl) {{\n",
              "    x.observe(outputEl, {childList: true});\n",
              "}}\n",
              "\n",
              "                        })                };                            </script>        </div>\n",
              "</body>\n",
              "</html>"
            ]
          },
          "metadata": {}
        }
      ],
      "source": [
        "def getBenignSources(AttackCleanedDF):\n",
        "  BenignSources = AttackCleanedDF.filter(AttackCleanedDF[\"label\"].startswith('B')).select(\"id_orig_h\").distinct()\n",
        "  return BenignSources\n",
        "def getMaliciousSources(AttackCleanedDF):\n",
        "  MaliciousSources = AttackCleanedDF.filter(AttackCleanedDF[\"label\"].startswith('M')).select(\"id_orig_h\").distinct()\n",
        "  return MaliciousSources\n",
        "def getMixedSources(BenignSources, MaliciousSources):\n",
        "  BenignMaliciousSources = BenignSources.join(MaliciousSources,BenignSources.id_orig_h ==  MaliciousSources.id_orig_h,\"inner\")\\\n",
        "                                        .drop(MaliciousSources.id_orig_h)\\\n",
        "                                        .groupBy(\"id_orig_h\").count().select(\"id_orig_h\")\n",
        "  return BenignMaliciousSources\n",
        "def plotAllSourceType(data,valueCol,nameCol,title='Title'):\n",
        "  fig = px.pie(data.toPandas().to_dict(), values=valueCol, names=nameCol, title=title)\n",
        "  fig.show()\n",
        "  #pio.write_image(fig, \"figname.png\")\n",
        "  #fig.save()\n",
        "\n",
        "\n",
        "BenignSources = getBenignSources(AttackCleanedDF)\n",
        "MaliciousSources = getMaliciousSources(AttackCleanedDF)\n",
        "MixedSources = getMixedSources(BenignSources, MaliciousSources)\n",
        "PureBenignSources = BenignSources.subtract(MixedSources).withColumn(\"type\", lit(\"Pure Benign\"))\n",
        "PureMaliciousSources = MaliciousSources.subtract(MixedSources).withColumn(\"type\", lit(\"Pure Malicious\"))\n",
        "MixedTypeSources = MixedSources.withColumn(\"type\", lit(\"Mixed\"))\n",
        "\n",
        "#MixedTypeSources.show()\n",
        "#PureMaliciousSources.show()\n",
        "#MixedTypeSources.show()\n",
        "\n",
        "UserTypeDf = MixedTypeSources.union(PureMaliciousSources).union(PureBenignSources)\n",
        "UserTypeDf.show()\n",
        "\n",
        "UserTypeCntDf = UserTypeDf.groupBy('type').count()\n",
        "UserTypeCntDf.show()\n",
        "\n",
        "plotAllSourceType(UserTypeCntDf,'count','type','Type Of Users')"
      ]
    },
    {
      "cell_type": "code",
      "execution_count": 63,
      "metadata": {
        "colab": {
          "base_uri": "https://localhost:8080/",
          "height": 1000
        },
        "id": "uEQvVf6vyGPN",
        "outputId": "74e7e7bb-75a0-4c9e-86f2-f24f4dd77f98"
      },
      "outputs": [
        {
          "output_type": "stream",
          "name": "stdout",
          "text": [
            "+------+----+-----+\n",
            "|typeMB|hour|count|\n",
            "+------+----+-----+\n",
            "|     B|   8|  238|\n",
            "|     B|  23| 2047|\n",
            "|     B|  13|  225|\n",
            "|     B|  19| 3254|\n",
            "|     B|   5|  232|\n",
            "|     M|  18| 2552|\n",
            "|     M|  10|  152|\n",
            "|     M|  15|  165|\n",
            "|     B|   0|  261|\n",
            "|     M|  12|  136|\n",
            "|     M|  13|  162|\n",
            "|     B|   7|  226|\n",
            "|     M|  22| 6372|\n",
            "|     B|  21| 2609|\n",
            "|     B|  18| 1412|\n",
            "|     M|   8|  164|\n",
            "|     M|  11|  139|\n",
            "|     B|  20| 2172|\n",
            "|     M|   5|  166|\n",
            "|     B|  10|  248|\n",
            "+------+----+-----+\n",
            "only showing top 20 rows\n",
            "\n",
            "+------+----+-----+\n",
            "|typeMB|hour|count|\n",
            "+------+----+-----+\n",
            "|     B|   8| 1151|\n",
            "|     B|  23|10840|\n",
            "|     B|  13| 1222|\n",
            "|     B|  19|17105|\n",
            "|     B|   5| 1139|\n",
            "|     B|   0| 1322|\n",
            "|     B|   7| 1164|\n",
            "|     B|  21|14061|\n",
            "|     B|  18| 7572|\n",
            "|     B|  20|10892|\n",
            "|     B|  10| 1188|\n",
            "|     B|   6| 1195|\n",
            "|     B|  22|17230|\n",
            "|     B|   9| 1217|\n",
            "|     B|  16| 1244|\n",
            "|     B|   1| 1303|\n",
            "|     B|   3| 1335|\n",
            "|     B|   4| 1289|\n",
            "|     B|  12| 1200|\n",
            "|     B|  15| 1304|\n",
            "+------+----+-----+\n",
            "only showing top 20 rows\n",
            "\n"
          ]
        },
        {
          "output_type": "display_data",
          "data": {
            "text/plain": [
              "<Figure size 640x480 with 1 Axes>"
            ],
            "image/png": "[encoded data removed]"
          },
          "metadata": {}
        }
      ],
      "source": [
        "def plotMixedDFwithTime(MixedCleanedDF,BCleanedDF):\n",
        "  #plot for 24 hour buckets\n",
        "  d = MixedCleanedDF.toPandas().to_dict()\n",
        "  b = BCleanedDF.toPandas().to_dict()\n",
        "\n",
        "  hours = np.arange(24)\n",
        "  benign = [int(0) for _ in range(24)]\n",
        "  malicious = [int(0) for _ in range(24)]\n",
        "  pb = [int(0) for _ in range(24)]\n",
        "  width = 0.4\n",
        "  for i in range(24):\n",
        "    if i in d['count'].keys():\n",
        "      count = d['count'][i]\n",
        "      category = d['typeMB'][i]\n",
        "      hour = d['hour'][i]\n",
        "      if category == 'M':\n",
        "        malicious[hour] += count\n",
        "      else:\n",
        "        benign[hour] += count\n",
        "  for i in range(24):\n",
        "    if i in b['count'].keys():\n",
        "      count = b['count'][i]\n",
        "      category = b['typeMB'][i]\n",
        "      hour = b['hour'][i]\n",
        "      if category == 'B':\n",
        "        pb[hour] += count\n",
        "  plt.bar(hours, malicious, width, label=\"Malicious\")\n",
        "  plt.bar(hours+width, benign, width, label=\"False Benign\")\n",
        "  #plt.bar(hours+2*width, pb, width, label=\"True Users\")\n",
        "  plt.title(\"Behaviour of Attackers Classified as Benign\")\n",
        "  plt.xticks(hours)\n",
        "  plt.xlabel(\"Hour\")\n",
        "  plt.ylabel(\"Number of requests\")\n",
        "  plt.legend()\n",
        "  plt.show()\n",
        "\n",
        "#Create MaliciousDF and MixedDF\n",
        "OnlyMixedTypeDF = UserTypeDf.filter(UserTypeDf[\"type\"] == \"Mixed\")\n",
        "MixedDF = AttackCleanedDF.join(OnlyMixedTypeDF,AttackCleanedDF.id_orig_h == OnlyMixedTypeDF.id_orig_h,\"inner\").drop(OnlyMixedTypeDF.id_orig_h)\n",
        "#MixedDF.show()\n",
        "\n",
        "#append hour column\n",
        "MixedDFWithTime = MixedDF.withColumn(\"hour\", hour(MixedDF.timestamp)).withColumn(\"typeMB\",substring(MixedDF.label,0,1))\n",
        "#MixedDFWithTime.show()\n",
        "\n",
        "MixedCleanedDF = MixedDFWithTime.select(\"id_orig_h\",\"typeMB\",\"hour\").groupBy(\"typeMB\",\"hour\").count()\n",
        "MixedCleanedDF.show()\n",
        "\n",
        "#Create MaliciousDF and MixedDF\n",
        "OnlyBenignTypeDF = UserTypeDf.filter(UserTypeDf[\"type\"] == \"Pure Benign\")\n",
        "BDF = AttackCleanedDF.join(OnlyBenignTypeDF,AttackCleanedDF.id_orig_h == OnlyBenignTypeDF.id_orig_h,\"inner\").drop(OnlyBenignTypeDF.id_orig_h)\n",
        "#MixedDF.show()\n",
        "\n",
        "#append hour column\n",
        "BDFWithTime = BDF.withColumn(\"hour\", hour(BDF.timestamp)).withColumn(\"typeMB\",substring(BDF.label,0,1))\n",
        "#MixedDFWithTime.show()\n",
        "\n",
        "BCleanedDF = BDFWithTime.select(\"id_orig_h\",\"typeMB\",\"hour\").groupBy(\"typeMB\",\"hour\").count()\n",
        "BCleanedDF.show()\n",
        "\n",
        "plotMixedDFwithTime(MixedCleanedDF,BCleanedDF)"
      ]
    },
    {
      "cell_type": "markdown",
      "metadata": {
        "id": "T_8PVpZwE3P1"
      },
      "source": [
        "### **3) Identify all categories of attack from dataset.**\n",
        "\n",
        "   a) Create pie chart to depict the categorization and percentage of these attcak.( number of occurrance)\n",
        "\n",
        "   B) Create pie chart to depict the categorization and percentage of these attcak.(Duration)\n",
        "\n",
        "   c) Create pie chart to depict the categorization and percentage of these attcak.(Bandwidth no of packets)\n"
      ]
    },
    {
      "cell_type": "markdown",
      "metadata": {
        "id": "HRNbzyS8OcqR"
      },
      "source": [
        "### Types of Attacks in our systems.\n",
        "1. Malicious   PartOfAHorizontalPortScan\n",
        "2. Malicious   C&C\n",
        "3. Malicious   DDoS\n",
        "4. Malicious"
      ]
    },
    {
      "cell_type": "code",
      "execution_count": 64,
      "metadata": {
        "colab": {
          "base_uri": "https://localhost:8080/",
          "height": 698
        },
        "id": "A-O1EjQdE4G3",
        "outputId": "ab6acd70-fa82-4016-a242-e3e516ad2eca"
      },
      "outputs": [
        {
          "output_type": "stream",
          "name": "stdout",
          "text": [
            "+--------------------+-----+\n",
            "|               label|count|\n",
            "+--------------------+-----+\n",
            "|           Malicious|29965|\n",
            "|Malicious   PartO...| 2363|\n",
            "|     Malicious   C&C| 4443|\n",
            "|    Malicious   DDoS|33873|\n",
            "+--------------------+-----+\n",
            "\n"
          ]
        },
        {
          "output_type": "display_data",
          "data": {
            "text/html": [
              "<html>\n",
              "<head><meta charset=\"utf-8\" /></head>\n",
              "<body>\n",
              "    <div>            <script src=\"https://cdnjs.cloudflare.com/ajax/libs/mathjax/2.7.5/MathJax.js?config=TeX-AMS-MML_SVG\"></script><script type=\"text/javascript\">if (window.MathJax && window.MathJax.Hub && window.MathJax.Hub.Config) {window.MathJax.Hub.Config({SVG: {font: \"STIX-Web\"}});}</script>                <script type=\"text/javascript\">window.PlotlyConfig = {MathJaxConfig: 'local'};</script>\n",
              "        <script charset=\"utf-8\" src=\"https://cdn.plot.ly/plotly-2.24.1.min.js\"></script>                <div id=\"ecbd94d4-dfc5-4917-a151-8a35489586a5\" class=\"plotly-graph-div\" style=\"height:525px; width:100%;\"></div>            <script type=\"text/javascript\">                                    window.PLOTLYENV=window.PLOTLYENV || {};                                    if (document.getElementById(\"ecbd94d4-dfc5-4917-a151-8a35489586a5\")) {                    Plotly.newPlot(                        \"ecbd94d4-dfc5-4917-a151-8a35489586a5\",                        [{\"domain\":{\"x\":[0.0,1.0],\"y\":[0.0,1.0]},\"hovertemplate\":\"label=%{label}\\u003cbr\\u003ecount=%{value}\\u003cextra\\u003e\\u003c\\u002fextra\\u003e\",\"labels\":[\"Malicious\",\"Malicious   PartOfAHorizontalPortScan\",\"Malicious   C&C\",\"Malicious   DDoS\"],\"legendgroup\":\"\",\"name\":\"\",\"showlegend\":true,\"values\":[29965,2363,4443,33873],\"type\":\"pie\"}],                        {\"template\":{\"data\":{\"histogram2dcontour\":[{\"type\":\"histogram2dcontour\",\"colorbar\":{\"outlinewidth\":0,\"ticks\":\"\"},\"colorscale\":[[0.0,\"#0d0887\"],[0.1111111111111111,\"#46039f\"],[0.2222222222222222,\"#7201a8\"],[0.3333333333333333,\"#9c179e\"],[0.4444444444444444,\"#bd3786\"],[0.5555555555555556,\"#d8576b\"],[0.6666666666666666,\"#ed7953\"],[0.7777777777777778,\"#fb9f3a\"],[0.8888888888888888,\"#fdca26\"],[1.0,\"#f0f921\"]]}],\"choropleth\":[{\"type\":\"choropleth\",\"colorbar\":{\"outlinewidth\":0,\"ticks\":\"\"}}],\"histogram2d\":[{\"type\":\"histogram2d\",\"colorbar\":{\"outlinewidth\":0,\"ticks\":\"\"},\"colorscale\":[[0.0,\"#0d0887\"],[0.1111111111111111,\"#46039f\"],[0.2222222222222222,\"#7201a8\"],[0.3333333333333333,\"#9c179e\"],[0.4444444444444444,\"#bd3786\"],[0.5555555555555556,\"#d8576b\"],[0.6666666666666666,\"#ed7953\"],[0.7777777777777778,\"#fb9f3a\"],[0.8888888888888888,\"#fdca26\"],[1.0,\"#f0f921\"]]}],\"heatmap\":[{\"type\":\"heatmap\",\"colorbar\":{\"outlinewidth\":0,\"ticks\":\"\"},\"colorscale\":[[0.0,\"#0d0887\"],[0.1111111111111111,\"#46039f\"],[0.2222222222222222,\"#7201a8\"],[0.3333333333333333,\"#9c179e\"],[0.4444444444444444,\"#bd3786\"],[0.5555555555555556,\"#d8576b\"],[0.6666666666666666,\"#ed7953\"],[0.7777777777777778,\"#fb9f3a\"],[0.8888888888888888,\"#fdca26\"],[1.0,\"#f0f921\"]]}],\"heatmapgl\":[{\"type\":\"heatmapgl\",\"colorbar\":{\"outlinewidth\":0,\"ticks\":\"\"},\"colorscale\":[[0.0,\"#0d0887\"],[0.1111111111111111,\"#46039f\"],[0.2222222222222222,\"#7201a8\"],[0.3333333333333333,\"#9c179e\"],[0.4444444444444444,\"#bd3786\"],[0.5555555555555556,\"#d8576b\"],[0.6666666666666666,\"#ed7953\"],[0.7777777777777778,\"#fb9f3a\"],[0.8888888888888888,\"#fdca26\"],[1.0,\"#f0f921\"]]}],\"contourcarpet\":[{\"type\":\"contourcarpet\",\"colorbar\":{\"outlinewidth\":0,\"ticks\":\"\"}}],\"contour\":[{\"type\":\"contour\",\"colorbar\":{\"outlinewidth\":0,\"ticks\":\"\"},\"colorscale\":[[0.0,\"#0d0887\"],[0.1111111111111111,\"#46039f\"],[0.2222222222222222,\"#7201a8\"],[0.3333333333333333,\"#9c179e\"],[0.4444444444444444,\"#bd3786\"],[0.5555555555555556,\"#d8576b\"],[0.6666666666666666,\"#ed7953\"],[0.7777777777777778,\"#fb9f3a\"],[0.8888888888888888,\"#fdca26\"],[1.0,\"#f0f921\"]]}],\"surface\":[{\"type\":\"surface\",\"colorbar\":{\"outlinewidth\":0,\"ticks\":\"\"},\"colorscale\":[[0.0,\"#0d0887\"],[0.1111111111111111,\"#46039f\"],[0.2222222222222222,\"#7201a8\"],[0.3333333333333333,\"#9c179e\"],[0.4444444444444444,\"#bd3786\"],[0.5555555555555556,\"#d8576b\"],[0.6666666666666666,\"#ed7953\"],[0.7777777777777778,\"#fb9f3a\"],[0.8888888888888888,\"#fdca26\"],[1.0,\"#f0f921\"]]}],\"mesh3d\":[{\"type\":\"mesh3d\",\"colorbar\":{\"outlinewidth\":0,\"ticks\":\"\"}}],\"scatter\":[{\"fillpattern\":{\"fillmode\":\"overlay\",\"size\":10,\"solidity\":0.2},\"type\":\"scatter\"}],\"parcoords\":[{\"type\":\"parcoords\",\"line\":{\"colorbar\":{\"outlinewidth\":0,\"ticks\":\"\"}}}],\"scatterpolargl\":[{\"type\":\"scatterpolargl\",\"marker\":{\"colorbar\":{\"outlinewidth\":0,\"ticks\":\"\"}}}],\"bar\":[{\"error_x\":{\"color\":\"#2a3f5f\"},\"error_y\":{\"color\":\"#2a3f5f\"},\"marker\":{\"line\":{\"color\":\"#E5ECF6\",\"width\":0.5},\"pattern\":{\"fillmode\":\"overlay\",\"size\":10,\"solidity\":0.2}},\"type\":\"bar\"}],\"scattergeo\":[{\"type\":\"scattergeo\",\"marker\":{\"colorbar\":{\"outlinewidth\":0,\"ticks\":\"\"}}}],\"scatterpolar\":[{\"type\":\"scatterpolar\",\"marker\":{\"colorbar\":{\"outlinewidth\":0,\"ticks\":\"\"}}}],\"histogram\":[{\"marker\":{\"pattern\":{\"fillmode\":\"overlay\",\"size\":10,\"solidity\":0.2}},\"type\":\"histogram\"}],\"scattergl\":[{\"type\":\"scattergl\",\"marker\":{\"colorbar\":{\"outlinewidth\":0,\"ticks\":\"\"}}}],\"scatter3d\":[{\"type\":\"scatter3d\",\"line\":{\"colorbar\":{\"outlinewidth\":0,\"ticks\":\"\"}},\"marker\":{\"colorbar\":{\"outlinewidth\":0,\"ticks\":\"\"}}}],\"scattermapbox\":[{\"type\":\"scattermapbox\",\"marker\":{\"colorbar\":{\"outlinewidth\":0,\"ticks\":\"\"}}}],\"scatterternary\":[{\"type\":\"scatterternary\",\"marker\":{\"colorbar\":{\"outlinewidth\":0,\"ticks\":\"\"}}}],\"scattercarpet\":[{\"type\":\"scattercarpet\",\"marker\":{\"colorbar\":{\"outlinewidth\":0,\"ticks\":\"\"}}}],\"carpet\":[{\"aaxis\":{\"endlinecolor\":\"#2a3f5f\",\"gridcolor\":\"white\",\"linecolor\":\"white\",\"minorgridcolor\":\"white\",\"startlinecolor\":\"#2a3f5f\"},\"baxis\":{\"endlinecolor\":\"#2a3f5f\",\"gridcolor\":\"white\",\"linecolor\":\"white\",\"minorgridcolor\":\"white\",\"startlinecolor\":\"#2a3f5f\"},\"type\":\"carpet\"}],\"table\":[{\"cells\":{\"fill\":{\"color\":\"#EBF0F8\"},\"line\":{\"color\":\"white\"}},\"header\":{\"fill\":{\"color\":\"#C8D4E3\"},\"line\":{\"color\":\"white\"}},\"type\":\"table\"}],\"barpolar\":[{\"marker\":{\"line\":{\"color\":\"#E5ECF6\",\"width\":0.5},\"pattern\":{\"fillmode\":\"overlay\",\"size\":10,\"solidity\":0.2}},\"type\":\"barpolar\"}],\"pie\":[{\"automargin\":true,\"type\":\"pie\"}]},\"layout\":{\"autotypenumbers\":\"strict\",\"colorway\":[\"#636efa\",\"#EF553B\",\"#00cc96\",\"#ab63fa\",\"#FFA15A\",\"#19d3f3\",\"#FF6692\",\"#B6E880\",\"#FF97FF\",\"#FECB52\"],\"font\":{\"color\":\"#2a3f5f\"},\"hovermode\":\"closest\",\"hoverlabel\":{\"align\":\"left\"},\"paper_bgcolor\":\"white\",\"plot_bgcolor\":\"#E5ECF6\",\"polar\":{\"bgcolor\":\"#E5ECF6\",\"angularaxis\":{\"gridcolor\":\"white\",\"linecolor\":\"white\",\"ticks\":\"\"},\"radialaxis\":{\"gridcolor\":\"white\",\"linecolor\":\"white\",\"ticks\":\"\"}},\"ternary\":{\"bgcolor\":\"#E5ECF6\",\"aaxis\":{\"gridcolor\":\"white\",\"linecolor\":\"white\",\"ticks\":\"\"},\"baxis\":{\"gridcolor\":\"white\",\"linecolor\":\"white\",\"ticks\":\"\"},\"caxis\":{\"gridcolor\":\"white\",\"linecolor\":\"white\",\"ticks\":\"\"}},\"coloraxis\":{\"colorbar\":{\"outlinewidth\":0,\"ticks\":\"\"}},\"colorscale\":{\"sequential\":[[0.0,\"#0d0887\"],[0.1111111111111111,\"#46039f\"],[0.2222222222222222,\"#7201a8\"],[0.3333333333333333,\"#9c179e\"],[0.4444444444444444,\"#bd3786\"],[0.5555555555555556,\"#d8576b\"],[0.6666666666666666,\"#ed7953\"],[0.7777777777777778,\"#fb9f3a\"],[0.8888888888888888,\"#fdca26\"],[1.0,\"#f0f921\"]],\"sequentialminus\":[[0.0,\"#0d0887\"],[0.1111111111111111,\"#46039f\"],[0.2222222222222222,\"#7201a8\"],[0.3333333333333333,\"#9c179e\"],[0.4444444444444444,\"#bd3786\"],[0.5555555555555556,\"#d8576b\"],[0.6666666666666666,\"#ed7953\"],[0.7777777777777778,\"#fb9f3a\"],[0.8888888888888888,\"#fdca26\"],[1.0,\"#f0f921\"]],\"diverging\":[[0,\"#8e0152\"],[0.1,\"#c51b7d\"],[0.2,\"#de77ae\"],[0.3,\"#f1b6da\"],[0.4,\"#fde0ef\"],[0.5,\"#f7f7f7\"],[0.6,\"#e6f5d0\"],[0.7,\"#b8e186\"],[0.8,\"#7fbc41\"],[0.9,\"#4d9221\"],[1,\"#276419\"]]},\"xaxis\":{\"gridcolor\":\"white\",\"linecolor\":\"white\",\"ticks\":\"\",\"title\":{\"standoff\":15},\"zerolinecolor\":\"white\",\"automargin\":true,\"zerolinewidth\":2},\"yaxis\":{\"gridcolor\":\"white\",\"linecolor\":\"white\",\"ticks\":\"\",\"title\":{\"standoff\":15},\"zerolinecolor\":\"white\",\"automargin\":true,\"zerolinewidth\":2},\"scene\":{\"xaxis\":{\"backgroundcolor\":\"#E5ECF6\",\"gridcolor\":\"white\",\"linecolor\":\"white\",\"showbackground\":true,\"ticks\":\"\",\"zerolinecolor\":\"white\",\"gridwidth\":2},\"yaxis\":{\"backgroundcolor\":\"#E5ECF6\",\"gridcolor\":\"white\",\"linecolor\":\"white\",\"showbackground\":true,\"ticks\":\"\",\"zerolinecolor\":\"white\",\"gridwidth\":2},\"zaxis\":{\"backgroundcolor\":\"#E5ECF6\",\"gridcolor\":\"white\",\"linecolor\":\"white\",\"showbackground\":true,\"ticks\":\"\",\"zerolinecolor\":\"white\",\"gridwidth\":2}},\"shapedefaults\":{\"line\":{\"color\":\"#2a3f5f\"}},\"annotationdefaults\":{\"arrowcolor\":\"#2a3f5f\",\"arrowhead\":0,\"arrowwidth\":1},\"geo\":{\"bgcolor\":\"white\",\"landcolor\":\"#E5ECF6\",\"subunitcolor\":\"white\",\"showland\":true,\"showlakes\":true,\"lakecolor\":\"white\"},\"title\":{\"x\":0.05},\"mapbox\":{\"style\":\"light\"}}},\"legend\":{\"tracegroupgap\":0},\"title\":{\"text\":\"Types Of Attack\"}},                        {\"responsive\": true}                    ).then(function(){\n",
              "                            \n",
              "var gd = document.getElementById('ecbd94d4-dfc5-4917-a151-8a35489586a5');\n",
              "var x = new MutationObserver(function (mutations, observer) {{\n",
              "        var display = window.getComputedStyle(gd).display;\n",
              "        if (!display || display === 'none') {{\n",
              "            console.log([gd, 'removed!']);\n",
              "            Plotly.purge(gd);\n",
              "            observer.disconnect();\n",
              "        }}\n",
              "}});\n",
              "\n",
              "// Listen for the removal of the full notebook cells\n",
              "var notebookContainer = gd.closest('#notebook-container');\n",
              "if (notebookContainer) {{\n",
              "    x.observe(notebookContainer, {childList: true});\n",
              "}}\n",
              "\n",
              "// Listen for the clearing of the current output cell\n",
              "var outputEl = gd.closest('.output');\n",
              "if (outputEl) {{\n",
              "    x.observe(outputEl, {childList: true});\n",
              "}}\n",
              "\n",
              "                        })                };                            </script>        </div>\n",
              "</body>\n",
              "</html>"
            ]
          },
          "metadata": {}
        }
      ],
      "source": [
        "groupedMaliciousDF = AttackCleanedDF.filter(AttackCleanedDF.label.contains(\"Malicious\")).groupBy(\"label\").count()\n",
        "groupedMaliciousDF.show()\n",
        "\n",
        "plotAllSourceType(groupedMaliciousDF,'count','label','Types Of Attack')\n"
      ]
    },
    {
      "cell_type": "markdown",
      "metadata": {
        "id": "P0L5GjiDRIDy"
      },
      "source": [
        "**Conclusion**\n",
        "- Most of the attacks are DDoS"
      ]
    },
    {
      "cell_type": "markdown",
      "metadata": {
        "id": "jWcnj_20TFW0"
      },
      "source": [
        "## **Category wise Average Duration of Attacks**"
      ]
    },
    {
      "cell_type": "code",
      "execution_count": 65,
      "metadata": {
        "colab": {
          "base_uri": "https://localhost:8080/",
          "height": 542
        },
        "id": "9dkAFyLBSFN7",
        "outputId": "76f8135e-3e18-43d6-cb2c-17cc6a225fe0"
      },
      "outputs": [
        {
          "output_type": "display_data",
          "data": {
            "text/html": [
              "<html>\n",
              "<head><meta charset=\"utf-8\" /></head>\n",
              "<body>\n",
              "    <div>            <script src=\"https://cdnjs.cloudflare.com/ajax/libs/mathjax/2.7.5/MathJax.js?config=TeX-AMS-MML_SVG\"></script><script type=\"text/javascript\">if (window.MathJax && window.MathJax.Hub && window.MathJax.Hub.Config) {window.MathJax.Hub.Config({SVG: {font: \"STIX-Web\"}});}</script>                <script type=\"text/javascript\">window.PlotlyConfig = {MathJaxConfig: 'local'};</script>\n",
              "        <script charset=\"utf-8\" src=\"https://cdn.plot.ly/plotly-2.24.1.min.js\"></script>                <div id=\"c98f5120-c0ac-435c-ae92-7746ee71cee4\" class=\"plotly-graph-div\" style=\"height:525px; width:100%;\"></div>            <script type=\"text/javascript\">                                    window.PLOTLYENV=window.PLOTLYENV || {};                                    if (document.getElementById(\"c98f5120-c0ac-435c-ae92-7746ee71cee4\")) {                    Plotly.newPlot(                        \"c98f5120-c0ac-435c-ae92-7746ee71cee4\",                        [{\"domain\":{\"x\":[0.0,1.0],\"y\":[0.0,1.0]},\"hovertemplate\":\"label=%{label}\\u003cbr\\u003eavg_duration=%{value}\\u003cextra\\u003e\\u003c\\u002fextra\\u003e\",\"labels\":[\"Malicious\",\"Malicious   PartOfAHorizontalPortScan\",\"Malicious   C&C\",\"Malicious   DDoS\"],\"legendgroup\":\"\",\"name\":\"\",\"showlegend\":true,\"values\":[6.056965459702963,5.59382141345746,5.9456515867657025,6.102791899152714],\"type\":\"pie\"}],                        {\"template\":{\"data\":{\"histogram2dcontour\":[{\"type\":\"histogram2dcontour\",\"colorbar\":{\"outlinewidth\":0,\"ticks\":\"\"},\"colorscale\":[[0.0,\"#0d0887\"],[0.1111111111111111,\"#46039f\"],[0.2222222222222222,\"#7201a8\"],[0.3333333333333333,\"#9c179e\"],[0.4444444444444444,\"#bd3786\"],[0.5555555555555556,\"#d8576b\"],[0.6666666666666666,\"#ed7953\"],[0.7777777777777778,\"#fb9f3a\"],[0.8888888888888888,\"#fdca26\"],[1.0,\"#f0f921\"]]}],\"choropleth\":[{\"type\":\"choropleth\",\"colorbar\":{\"outlinewidth\":0,\"ticks\":\"\"}}],\"histogram2d\":[{\"type\":\"histogram2d\",\"colorbar\":{\"outlinewidth\":0,\"ticks\":\"\"},\"colorscale\":[[0.0,\"#0d0887\"],[0.1111111111111111,\"#46039f\"],[0.2222222222222222,\"#7201a8\"],[0.3333333333333333,\"#9c179e\"],[0.4444444444444444,\"#bd3786\"],[0.5555555555555556,\"#d8576b\"],[0.6666666666666666,\"#ed7953\"],[0.7777777777777778,\"#fb9f3a\"],[0.8888888888888888,\"#fdca26\"],[1.0,\"#f0f921\"]]}],\"heatmap\":[{\"type\":\"heatmap\",\"colorbar\":{\"outlinewidth\":0,\"ticks\":\"\"},\"colorscale\":[[0.0,\"#0d0887\"],[0.1111111111111111,\"#46039f\"],[0.2222222222222222,\"#7201a8\"],[0.3333333333333333,\"#9c179e\"],[0.4444444444444444,\"#bd3786\"],[0.5555555555555556,\"#d8576b\"],[0.6666666666666666,\"#ed7953\"],[0.7777777777777778,\"#fb9f3a\"],[0.8888888888888888,\"#fdca26\"],[1.0,\"#f0f921\"]]}],\"heatmapgl\":[{\"type\":\"heatmapgl\",\"colorbar\":{\"outlinewidth\":0,\"ticks\":\"\"},\"colorscale\":[[0.0,\"#0d0887\"],[0.1111111111111111,\"#46039f\"],[0.2222222222222222,\"#7201a8\"],[0.3333333333333333,\"#9c179e\"],[0.4444444444444444,\"#bd3786\"],[0.5555555555555556,\"#d8576b\"],[0.6666666666666666,\"#ed7953\"],[0.7777777777777778,\"#fb9f3a\"],[0.8888888888888888,\"#fdca26\"],[1.0,\"#f0f921\"]]}],\"contourcarpet\":[{\"type\":\"contourcarpet\",\"colorbar\":{\"outlinewidth\":0,\"ticks\":\"\"}}],\"contour\":[{\"type\":\"contour\",\"colorbar\":{\"outlinewidth\":0,\"ticks\":\"\"},\"colorscale\":[[0.0,\"#0d0887\"],[0.1111111111111111,\"#46039f\"],[0.2222222222222222,\"#7201a8\"],[0.3333333333333333,\"#9c179e\"],[0.4444444444444444,\"#bd3786\"],[0.5555555555555556,\"#d8576b\"],[0.6666666666666666,\"#ed7953\"],[0.7777777777777778,\"#fb9f3a\"],[0.8888888888888888,\"#fdca26\"],[1.0,\"#f0f921\"]]}],\"surface\":[{\"type\":\"surface\",\"colorbar\":{\"outlinewidth\":0,\"ticks\":\"\"},\"colorscale\":[[0.0,\"#0d0887\"],[0.1111111111111111,\"#46039f\"],[0.2222222222222222,\"#7201a8\"],[0.3333333333333333,\"#9c179e\"],[0.4444444444444444,\"#bd3786\"],[0.5555555555555556,\"#d8576b\"],[0.6666666666666666,\"#ed7953\"],[0.7777777777777778,\"#fb9f3a\"],[0.8888888888888888,\"#fdca26\"],[1.0,\"#f0f921\"]]}],\"mesh3d\":[{\"type\":\"mesh3d\",\"colorbar\":{\"outlinewidth\":0,\"ticks\":\"\"}}],\"scatter\":[{\"fillpattern\":{\"fillmode\":\"overlay\",\"size\":10,\"solidity\":0.2},\"type\":\"scatter\"}],\"parcoords\":[{\"type\":\"parcoords\",\"line\":{\"colorbar\":{\"outlinewidth\":0,\"ticks\":\"\"}}}],\"scatterpolargl\":[{\"type\":\"scatterpolargl\",\"marker\":{\"colorbar\":{\"outlinewidth\":0,\"ticks\":\"\"}}}],\"bar\":[{\"error_x\":{\"color\":\"#2a3f5f\"},\"error_y\":{\"color\":\"#2a3f5f\"},\"marker\":{\"line\":{\"color\":\"#E5ECF6\",\"width\":0.5},\"pattern\":{\"fillmode\":\"overlay\",\"size\":10,\"solidity\":0.2}},\"type\":\"bar\"}],\"scattergeo\":[{\"type\":\"scattergeo\",\"marker\":{\"colorbar\":{\"outlinewidth\":0,\"ticks\":\"\"}}}],\"scatterpolar\":[{\"type\":\"scatterpolar\",\"marker\":{\"colorbar\":{\"outlinewidth\":0,\"ticks\":\"\"}}}],\"histogram\":[{\"marker\":{\"pattern\":{\"fillmode\":\"overlay\",\"size\":10,\"solidity\":0.2}},\"type\":\"histogram\"}],\"scattergl\":[{\"type\":\"scattergl\",\"marker\":{\"colorbar\":{\"outlinewidth\":0,\"ticks\":\"\"}}}],\"scatter3d\":[{\"type\":\"scatter3d\",\"line\":{\"colorbar\":{\"outlinewidth\":0,\"ticks\":\"\"}},\"marker\":{\"colorbar\":{\"outlinewidth\":0,\"ticks\":\"\"}}}],\"scattermapbox\":[{\"type\":\"scattermapbox\",\"marker\":{\"colorbar\":{\"outlinewidth\":0,\"ticks\":\"\"}}}],\"scatterternary\":[{\"type\":\"scatterternary\",\"marker\":{\"colorbar\":{\"outlinewidth\":0,\"ticks\":\"\"}}}],\"scattercarpet\":[{\"type\":\"scattercarpet\",\"marker\":{\"colorbar\":{\"outlinewidth\":0,\"ticks\":\"\"}}}],\"carpet\":[{\"aaxis\":{\"endlinecolor\":\"#2a3f5f\",\"gridcolor\":\"white\",\"linecolor\":\"white\",\"minorgridcolor\":\"white\",\"startlinecolor\":\"#2a3f5f\"},\"baxis\":{\"endlinecolor\":\"#2a3f5f\",\"gridcolor\":\"white\",\"linecolor\":\"white\",\"minorgridcolor\":\"white\",\"startlinecolor\":\"#2a3f5f\"},\"type\":\"carpet\"}],\"table\":[{\"cells\":{\"fill\":{\"color\":\"#EBF0F8\"},\"line\":{\"color\":\"white\"}},\"header\":{\"fill\":{\"color\":\"#C8D4E3\"},\"line\":{\"color\":\"white\"}},\"type\":\"table\"}],\"barpolar\":[{\"marker\":{\"line\":{\"color\":\"#E5ECF6\",\"width\":0.5},\"pattern\":{\"fillmode\":\"overlay\",\"size\":10,\"solidity\":0.2}},\"type\":\"barpolar\"}],\"pie\":[{\"automargin\":true,\"type\":\"pie\"}]},\"layout\":{\"autotypenumbers\":\"strict\",\"colorway\":[\"#636efa\",\"#EF553B\",\"#00cc96\",\"#ab63fa\",\"#FFA15A\",\"#19d3f3\",\"#FF6692\",\"#B6E880\",\"#FF97FF\",\"#FECB52\"],\"font\":{\"color\":\"#2a3f5f\"},\"hovermode\":\"closest\",\"hoverlabel\":{\"align\":\"left\"},\"paper_bgcolor\":\"white\",\"plot_bgcolor\":\"#E5ECF6\",\"polar\":{\"bgcolor\":\"#E5ECF6\",\"angularaxis\":{\"gridcolor\":\"white\",\"linecolor\":\"white\",\"ticks\":\"\"},\"radialaxis\":{\"gridcolor\":\"white\",\"linecolor\":\"white\",\"ticks\":\"\"}},\"ternary\":{\"bgcolor\":\"#E5ECF6\",\"aaxis\":{\"gridcolor\":\"white\",\"linecolor\":\"white\",\"ticks\":\"\"},\"baxis\":{\"gridcolor\":\"white\",\"linecolor\":\"white\",\"ticks\":\"\"},\"caxis\":{\"gridcolor\":\"white\",\"linecolor\":\"white\",\"ticks\":\"\"}},\"coloraxis\":{\"colorbar\":{\"outlinewidth\":0,\"ticks\":\"\"}},\"colorscale\":{\"sequential\":[[0.0,\"#0d0887\"],[0.1111111111111111,\"#46039f\"],[0.2222222222222222,\"#7201a8\"],[0.3333333333333333,\"#9c179e\"],[0.4444444444444444,\"#bd3786\"],[0.5555555555555556,\"#d8576b\"],[0.6666666666666666,\"#ed7953\"],[0.7777777777777778,\"#fb9f3a\"],[0.8888888888888888,\"#fdca26\"],[1.0,\"#f0f921\"]],\"sequentialminus\":[[0.0,\"#0d0887\"],[0.1111111111111111,\"#46039f\"],[0.2222222222222222,\"#7201a8\"],[0.3333333333333333,\"#9c179e\"],[0.4444444444444444,\"#bd3786\"],[0.5555555555555556,\"#d8576b\"],[0.6666666666666666,\"#ed7953\"],[0.7777777777777778,\"#fb9f3a\"],[0.8888888888888888,\"#fdca26\"],[1.0,\"#f0f921\"]],\"diverging\":[[0,\"#8e0152\"],[0.1,\"#c51b7d\"],[0.2,\"#de77ae\"],[0.3,\"#f1b6da\"],[0.4,\"#fde0ef\"],[0.5,\"#f7f7f7\"],[0.6,\"#e6f5d0\"],[0.7,\"#b8e186\"],[0.8,\"#7fbc41\"],[0.9,\"#4d9221\"],[1,\"#276419\"]]},\"xaxis\":{\"gridcolor\":\"white\",\"linecolor\":\"white\",\"ticks\":\"\",\"title\":{\"standoff\":15},\"zerolinecolor\":\"white\",\"automargin\":true,\"zerolinewidth\":2},\"yaxis\":{\"gridcolor\":\"white\",\"linecolor\":\"white\",\"ticks\":\"\",\"title\":{\"standoff\":15},\"zerolinecolor\":\"white\",\"automargin\":true,\"zerolinewidth\":2},\"scene\":{\"xaxis\":{\"backgroundcolor\":\"#E5ECF6\",\"gridcolor\":\"white\",\"linecolor\":\"white\",\"showbackground\":true,\"ticks\":\"\",\"zerolinecolor\":\"white\",\"gridwidth\":2},\"yaxis\":{\"backgroundcolor\":\"#E5ECF6\",\"gridcolor\":\"white\",\"linecolor\":\"white\",\"showbackground\":true,\"ticks\":\"\",\"zerolinecolor\":\"white\",\"gridwidth\":2},\"zaxis\":{\"backgroundcolor\":\"#E5ECF6\",\"gridcolor\":\"white\",\"linecolor\":\"white\",\"showbackground\":true,\"ticks\":\"\",\"zerolinecolor\":\"white\",\"gridwidth\":2}},\"shapedefaults\":{\"line\":{\"color\":\"#2a3f5f\"}},\"annotationdefaults\":{\"arrowcolor\":\"#2a3f5f\",\"arrowhead\":0,\"arrowwidth\":1},\"geo\":{\"bgcolor\":\"white\",\"landcolor\":\"#E5ECF6\",\"subunitcolor\":\"white\",\"showland\":true,\"showlakes\":true,\"lakecolor\":\"white\"},\"title\":{\"x\":0.05},\"mapbox\":{\"style\":\"light\"}}},\"legend\":{\"tracegroupgap\":0},\"title\":{\"text\":\"Average Duration of Attacks\"}},                        {\"responsive\": true}                    ).then(function(){\n",
              "                            \n",
              "var gd = document.getElementById('c98f5120-c0ac-435c-ae92-7746ee71cee4');\n",
              "var x = new MutationObserver(function (mutations, observer) {{\n",
              "        var display = window.getComputedStyle(gd).display;\n",
              "        if (!display || display === 'none') {{\n",
              "            console.log([gd, 'removed!']);\n",
              "            Plotly.purge(gd);\n",
              "            observer.disconnect();\n",
              "        }}\n",
              "}});\n",
              "\n",
              "// Listen for the removal of the full notebook cells\n",
              "var notebookContainer = gd.closest('#notebook-container');\n",
              "if (notebookContainer) {{\n",
              "    x.observe(notebookContainer, {childList: true});\n",
              "}}\n",
              "\n",
              "// Listen for the clearing of the current output cell\n",
              "var outputEl = gd.closest('.output');\n",
              "if (outputEl) {{\n",
              "    x.observe(outputEl, {childList: true});\n",
              "}}\n",
              "\n",
              "                        })                };                            </script>        </div>\n",
              "</body>\n",
              "</html>"
            ]
          },
          "metadata": {}
        }
      ],
      "source": [
        "groupedMaliciousDurationDF = AttackCleanedDF.filter(AttackCleanedDF.label.contains(\"Malicious\"))\\\n",
        "                                            .filter(~AttackCleanedDF.duration.contains(\"-\"))\\\n",
        "                                            .groupBy(\"label\").agg(avg(\"duration\").alias(\"avg_duration\"))\n",
        "#groupedMaliciousDurationDF.show()\n",
        "\n",
        "plotAllSourceType(groupedMaliciousDurationDF,'avg_duration','label','Average Duration of Attacks')"
      ]
    },
    {
      "cell_type": "markdown",
      "metadata": {
        "id": "Uh_A5A1pF6KU"
      },
      "source": [
        "\n",
        "\n",
        "### **4. Analyze the server behavior during the time of attack.**\n",
        "\n",
        "   a) Categorize diferent kind of servers from the logs.\n",
        "\n",
        "   b) Create pie chart to depict the impact caused by different types of attack on these servers.\n",
        "\n",
        "   c) Which server was mostly impacted because of these attack?\n",
        "\n",
        "   D) Analyze the type of imapct casued in these servers using HTTP return code.\n",
        "\n",
        "   E) capture the behavior in Pie chart or similar diagram.\n"
      ]
    },
    {
      "cell_type": "code",
      "execution_count": 66,
      "metadata": {
        "colab": {
          "base_uri": "https://localhost:8080/",
          "height": 1000
        },
        "id": "vZCmNaC0GM0Z",
        "outputId": "e9dde389-93bf-4691-d09a-d2575c6b1478"
      },
      "outputs": [
        {
          "output_type": "display_data",
          "data": {
            "text/plain": [
              "<Figure size 800x800 with 1 Axes>"
            ],
            "image/png": "[encoded data removed]"
          },
          "metadata": {}
        },
        {
          "output_type": "display_data",
          "data": {
            "text/plain": [
              "<Figure size 800x800 with 1 Axes>"
            ],
            "image/png": "[encoded data removed]"
          },
          "metadata": {}
        }
      ],
      "source": [
        "#df_StatusData.show()\n",
        "df_copy = df_StatusData.alias(\"df_copy\")\n",
        "\n",
        "def categorize_info(info):\n",
        "    return when(info.contains('nausf-auth'), 'AUSF') \\\n",
        "           .when(info.contains('nudm-sdm'), 'UDM') \\\n",
        "           .when(info.contains('npcf-smpolicy'), 'PCF') \\\n",
        "           .otherwise('Responses')\n",
        "\n",
        "# Apply the categorize_info function to create a new 'Category' column\n",
        "df_copy = df_copy.withColumn('server_type', categorize_info(col('Info')))\n",
        "# Count the occurrences for each category\n",
        "category_counts = df_copy.groupBy('server_type').agg(count('*').alias('Count'))\n",
        "\n",
        "# Filter out rows with 'Other' category\n",
        "category_counts = category_counts.filter(col('server_type').isin('AUSF', 'UDM', 'PCF'))\n",
        "# Show the resulting counts\n",
        "#category_counts.show()\n",
        "\n",
        "#df_copy.show(truncate=False)\n",
        "\n",
        "#create a pie chart\n",
        "import matplotlib.pyplot as plt\n",
        "from pyspark.sql import SparkSession\n",
        "from pyspark.sql.functions import col\n",
        "\n",
        "\n",
        "def draw_pie_chart(pd_df, column_name, title):\n",
        "    pd_df = category_counts.toPandas()\n",
        "    plt.figure(figsize=(8, 8))\n",
        "    plt.pie(pd_df['Count'], labels=pd_df[column_name], autopct='%1.1f%%', startangle=140)\n",
        "    plt.title(title)\n",
        "    plt.show()\n",
        "\n",
        "draw_pie_chart(category_counts, 'server_type', 'Failure Distribution')\n",
        "\n",
        "\n",
        "\n",
        "\n",
        "df_copy = df_StatusData.alias(\"df_copy\")\n",
        "\n",
        "def categorize_info(info):\n",
        "    return when(info.contains('500'), '500') \\\n",
        "           .when(info.contains('501'), '501') \\\n",
        "           .when(info.contains('502'), '502') \\\n",
        "           .when(info.contains('503'), '503') \\\n",
        "           .when(info.contains('511'), '511') \\\n",
        "           .when(info.contains('5'), 'HTTP ERROR') \\\n",
        "           .otherwise('Request')\n",
        "\n",
        "# Apply the categorize_info function to create a new 'Category' column\n",
        "df_copy = df_copy.withColumn('error_type', categorize_info(col('Info')))\n",
        "# Count the occurrences for each category\n",
        "category_counts = df_copy.groupBy('error_type').agg(count('*').alias('Count'))\n",
        "\n",
        "\n",
        "# Filter out rows with 'Other' category\n",
        "category_counts = category_counts.filter(col('error_type') != 'Request')\n",
        "draw_pie_chart(category_counts, 'error_type', 'Error Distribution')"
      ]
    },
    {
      "cell_type": "code",
      "execution_count": 67,
      "metadata": {
        "colab": {
          "base_uri": "https://localhost:8080/"
        },
        "id": "WUJ4U9KS0FHi",
        "outputId": "19a68c8c-e0e6-4165-bd06-61a799cf96e4"
      },
      "outputs": [
        {
          "output_type": "stream",
          "name": "stdout",
          "text": [
            "+-------------------+--------+--------------+-------------+-------------+-------------+-------------+---------+---------+\n",
            "|          timestamp|duration|          type|id_orig_p_num|id_orig_h_num|id_resp_h_num|id_resp_p_num|proto_num|label_num|\n",
            "+-------------------+--------+--------------+-------------+-------------+-------------+-------------+---------+---------+\n",
            "|2023-11-29 00:52:17|    3.03|Pure Malicious|          1.0|         13.0|          3.0|          2.0|      0.0|      0.0|\n",
            "|2023-12-01 07:24:47|    6.15|Pure Malicious|          1.0|         13.0|          3.0|          3.0|      1.0|      0.0|\n",
            "|2023-11-30 18:08:54|    4.06|Pure Malicious|          2.0|         13.0|          4.0|          3.0|      0.0|      1.0|\n",
            "|2023-12-02 09:55:24|    6.36|Pure Malicious|          2.0|         13.0|          2.0|          3.0|      1.0|      0.0|\n",
            "|2023-12-04 19:08:11|    3.29|Pure Malicious|          2.0|         13.0|          3.0|          3.0|      1.0|      1.0|\n",
            "|2023-12-06 02:02:24|    3.38|Pure Malicious|          2.0|         13.0|          2.0|          2.0|      1.0|      0.0|\n",
            "|2023-12-07 21:03:26|    6.46|Pure Malicious|          4.0|         13.0|          1.0|          2.0|      0.0|      0.0|\n",
            "|2023-12-02 22:45:08|    4.52|Pure Malicious|          0.0|         13.0|          0.0|          2.0|      0.0|      1.0|\n",
            "|2023-12-04 01:31:22|    2.81|Pure Malicious|          1.0|         13.0|          1.0|          0.0|      1.0|      0.0|\n",
            "|2023-12-08 08:32:19|    3.79|Pure Malicious|          4.0|         13.0|          3.0|          2.0|      1.0|      0.0|\n",
            "|2023-12-02 10:12:06|    5.57|Pure Malicious|          1.0|         13.0|          1.0|          3.0|      1.0|      0.0|\n",
            "|2023-11-29 11:22:27|    3.56|Pure Malicious|          4.0|         13.0|          0.0|          3.0|      0.0|      0.0|\n",
            "|2023-11-28 17:27:24|     3.0|Pure Malicious|          1.0|         13.0|          4.0|          0.0|      1.0|      0.0|\n",
            "|2023-11-30 16:53:16|    6.28|Pure Malicious|          2.0|         13.0|          1.0|          0.0|      1.0|      0.0|\n",
            "|2023-12-05 02:44:30|    5.34|Pure Malicious|          1.0|         13.0|          1.0|          1.0|      1.0|      0.0|\n",
            "|2023-12-04 00:15:06|    6.67|Pure Malicious|          1.0|         13.0|          4.0|          3.0|      1.0|      0.0|\n",
            "|2023-11-30 06:52:07|    4.81|Pure Malicious|          2.0|         13.0|          2.0|          3.0|      0.0|      0.0|\n",
            "|2023-12-03 04:51:23|     5.5|Pure Malicious|          2.0|         13.0|          4.0|          1.0|      0.0|      1.0|\n",
            "|2023-12-02 02:47:26|    5.96|Pure Malicious|          2.0|         13.0|          4.0|          1.0|      0.0|      1.0|\n",
            "|2023-11-28 22:23:09|    6.27|Pure Malicious|          0.0|         13.0|          0.0|          2.0|      1.0|      0.0|\n",
            "+-------------------+--------+--------------+-------------+-------------+-------------+-------------+---------+---------+\n",
            "only showing top 20 rows\n",
            "\n"
          ]
        }
      ],
      "source": [
        "from pyspark.sql import SparkSession\n",
        "from pyspark.ml.feature import VectorAssembler\n",
        "from pyspark.ml.classification import RandomForestClassifier\n",
        "from pyspark.ml import Pipeline\n",
        "from pyspark.ml.evaluation import MulticlassClassificationEvaluator\n",
        "from pyspark.sql.functions import col\n",
        "from pyspark.ml.feature import StringIndexer\n",
        "# Create a feature vector\n",
        "\n",
        "OnlyMTypeDF = UserTypeDf.filter(UserTypeDf[\"type\"] == \"Pure Malicious\")\n",
        "MDF = AttackCleanedDF.join(OnlyMTypeDF,AttackCleanedDF.id_orig_h == OnlyMTypeDF.id_orig_h,\"inner\").drop(OnlyMTypeDF.id_orig_h)\n",
        "\n",
        "categorical_columns = [\"id_orig_h\", \"id_orig_p\", \"id_resp_h\", \"id_resp_p\",\"proto\"]\n",
        "# Create StringIndexer instances for each column\n",
        "string_indexers = StringIndexer(inputCol=\"id_orig_p\", outputCol=\"id_orig_p_num\")\n",
        "indexed_df = string_indexers.fit(MDF).transform(MDF)\n",
        "indexed_df = indexed_df.drop(\"id_orig_p\")\n",
        "\n",
        "\n",
        "string_indexers = StringIndexer(inputCol=\"id_orig_h\", outputCol=\"id_orig_h_num\")\n",
        "indexed_df = string_indexers.fit(indexed_df).transform(indexed_df)\n",
        "indexed_df = indexed_df.drop(\"id_orig_h\")\n",
        "\n",
        "string_indexers = StringIndexer(inputCol=\"id_resp_h\", outputCol=\"id_resp_h_num\")\n",
        "indexed_df = string_indexers.fit(indexed_df).transform(indexed_df)\n",
        "indexed_df = indexed_df.drop(\"id_resp_h\")\n",
        "\n",
        "string_indexers = StringIndexer(inputCol=\"id_resp_p\", outputCol=\"id_resp_p_num\")\n",
        "indexed_df = string_indexers.fit(indexed_df).transform(indexed_df)\n",
        "indexed_df = indexed_df.drop(\"id_resp_p\")\n",
        "\n",
        "string_indexers = StringIndexer(inputCol=\"proto\", outputCol=\"proto_num\")\n",
        "indexed_df = string_indexers.fit(indexed_df).transform(indexed_df)\n",
        "indexed_df = indexed_df.drop(\"proto\")\n",
        "\n",
        "string_indexers = StringIndexer(inputCol=\"label\", outputCol=\"label_num\")\n",
        "indexed_df = string_indexers.fit(indexed_df).transform(indexed_df)\n",
        "indexed_df = indexed_df.drop(\"label\")\n",
        "\n",
        "# Show the result\n",
        "indexed_df.show()"
      ]
    },
    {
      "cell_type": "code",
      "execution_count": 68,
      "metadata": {
        "colab": {
          "base_uri": "https://localhost:8080/"
        },
        "id": "13AgFw2e5yr5",
        "outputId": "b688bd01-ac0b-47b1-8499-a0b76bb3dada"
      },
      "outputs": [
        {
          "output_type": "stream",
          "name": "stdout",
          "text": [
            "+-------------------+--------+--------------+-------------+-------------+-------------+-------------+---------+---------+\n",
            "|          timestamp|duration|          type|id_orig_p_num|id_orig_h_num|id_resp_h_num|id_resp_p_num|proto_num|label_num|\n",
            "+-------------------+--------+--------------+-------------+-------------+-------------+-------------+---------+---------+\n",
            "|2023-11-29 00:52:17|    3.03|Pure Malicious|          1.0|         13.0|          3.0|          2.0|      0.0|      0.0|\n",
            "|2023-12-01 07:24:47|    6.15|Pure Malicious|          1.0|         13.0|          3.0|          3.0|      1.0|      0.0|\n",
            "|2023-11-30 18:08:54|    4.06|Pure Malicious|          2.0|         13.0|          4.0|          3.0|      0.0|      1.0|\n",
            "|2023-12-02 09:55:24|    6.36|Pure Malicious|          2.0|         13.0|          2.0|          3.0|      1.0|      0.0|\n",
            "|2023-12-04 19:08:11|    3.29|Pure Malicious|          2.0|         13.0|          3.0|          3.0|      1.0|      1.0|\n",
            "|2023-12-06 02:02:24|    3.38|Pure Malicious|          2.0|         13.0|          2.0|          2.0|      1.0|      0.0|\n",
            "|2023-12-07 21:03:26|    6.46|Pure Malicious|          4.0|         13.0|          1.0|          2.0|      0.0|      0.0|\n",
            "|2023-12-02 22:45:08|    4.52|Pure Malicious|          0.0|         13.0|          0.0|          2.0|      0.0|      1.0|\n",
            "|2023-12-04 01:31:22|    2.81|Pure Malicious|          1.0|         13.0|          1.0|          0.0|      1.0|      0.0|\n",
            "|2023-12-08 08:32:19|    3.79|Pure Malicious|          4.0|         13.0|          3.0|          2.0|      1.0|      0.0|\n",
            "|2023-12-02 10:12:06|    5.57|Pure Malicious|          1.0|         13.0|          1.0|          3.0|      1.0|      0.0|\n",
            "|2023-11-29 11:22:27|    3.56|Pure Malicious|          4.0|         13.0|          0.0|          3.0|      0.0|      0.0|\n",
            "|2023-11-28 17:27:24|     3.0|Pure Malicious|          1.0|         13.0|          4.0|          0.0|      1.0|      0.0|\n",
            "|2023-11-30 16:53:16|    6.28|Pure Malicious|          2.0|         13.0|          1.0|          0.0|      1.0|      0.0|\n",
            "|2023-12-05 02:44:30|    5.34|Pure Malicious|          1.0|         13.0|          1.0|          1.0|      1.0|      0.0|\n",
            "|2023-12-04 00:15:06|    6.67|Pure Malicious|          1.0|         13.0|          4.0|          3.0|      1.0|      0.0|\n",
            "|2023-11-30 06:52:07|    4.81|Pure Malicious|          2.0|         13.0|          2.0|          3.0|      0.0|      0.0|\n",
            "|2023-12-03 04:51:23|     5.5|Pure Malicious|          2.0|         13.0|          4.0|          1.0|      0.0|      1.0|\n",
            "|2023-12-02 02:47:26|    5.96|Pure Malicious|          2.0|         13.0|          4.0|          1.0|      0.0|      1.0|\n",
            "|2023-11-28 22:23:09|    6.27|Pure Malicious|          0.0|         13.0|          0.0|          2.0|      1.0|      0.0|\n",
            "+-------------------+--------+--------------+-------------+-------------+-------------+-------------+---------+---------+\n",
            "only showing top 20 rows\n",
            "\n",
            "root\n",
            " |-- timestamp: string (nullable = true)\n",
            " |-- duration: string (nullable = true)\n",
            " |-- type: string (nullable = false)\n",
            " |-- id_orig_p_num: double (nullable = false)\n",
            " |-- id_orig_h_num: double (nullable = false)\n",
            " |-- id_resp_h_num: double (nullable = false)\n",
            " |-- id_resp_p_num: double (nullable = false)\n",
            " |-- proto_num: double (nullable = false)\n",
            " |-- label_num: double (nullable = false)\n",
            "\n",
            "+-------------+\n",
            "|id_orig_p_num|\n",
            "+-------------+\n",
            "|          1.0|\n",
            "|          1.0|\n",
            "|          2.0|\n",
            "|          2.0|\n",
            "|          2.0|\n",
            "|          2.0|\n",
            "|          4.0|\n",
            "|          0.0|\n",
            "|          1.0|\n",
            "|          4.0|\n",
            "|          1.0|\n",
            "|          4.0|\n",
            "|          1.0|\n",
            "|          2.0|\n",
            "|          1.0|\n",
            "|          1.0|\n",
            "|          2.0|\n",
            "|          2.0|\n",
            "|          2.0|\n",
            "|          0.0|\n",
            "+-------------+\n",
            "only showing top 20 rows\n",
            "\n"
          ]
        }
      ],
      "source": [
        "indexed_df.show()\n",
        "indexed_df.printSchema()\n",
        "indexed_df = indexed_df.filter(indexed_df.duration != 'duration')\n",
        "indexed_df.select('id_orig_p_num').show()"
      ]
    },
    {
      "cell_type": "code",
      "execution_count": 69,
      "metadata": {
        "colab": {
          "base_uri": "https://localhost:8080/"
        },
        "id": "xAtSB-SzTkBR",
        "outputId": "328f859f-dc2f-4bc2-d6b5-acc20c2d56b7"
      },
      "outputs": [
        {
          "output_type": "stream",
          "name": "stdout",
          "text": [
            "+-------------+\n",
            "|id_orig_p_num|\n",
            "+-------------+\n",
            "|          0.0|\n",
            "|          1.0|\n",
            "|          4.0|\n",
            "|          3.0|\n",
            "|          2.0|\n",
            "+-------------+\n",
            "\n",
            "+-------------+\n",
            "|id_orig_h_num|\n",
            "+-------------+\n",
            "|          8.0|\n",
            "|          0.0|\n",
            "|          7.0|\n",
            "|          1.0|\n",
            "|          4.0|\n",
            "|         11.0|\n",
            "|         14.0|\n",
            "|          3.0|\n",
            "|          2.0|\n",
            "|         10.0|\n",
            "|         13.0|\n",
            "|          6.0|\n",
            "|          5.0|\n",
            "|          9.0|\n",
            "|         12.0|\n",
            "+-------------+\n",
            "\n",
            "+-------------+\n",
            "|id_resp_p_num|\n",
            "+-------------+\n",
            "|          0.0|\n",
            "|          1.0|\n",
            "|          3.0|\n",
            "|          2.0|\n",
            "+-------------+\n",
            "\n",
            "+-------------+\n",
            "|id_resp_p_num|\n",
            "+-------------+\n",
            "|          0.0|\n",
            "|          1.0|\n",
            "|          3.0|\n",
            "|          2.0|\n",
            "+-------------+\n",
            "\n",
            "+---------+\n",
            "|proto_num|\n",
            "+---------+\n",
            "|      0.0|\n",
            "|      1.0|\n",
            "+---------+\n",
            "\n"
          ]
        }
      ],
      "source": [
        "indexed_df.select('id_orig_p_num').distinct().show()\n",
        "indexed_df.select('id_orig_h_num').distinct().show()\n",
        "indexed_df.select('id_resp_p_num').distinct().show()\n",
        "indexed_df.select('id_resp_p_num').distinct().show()\n",
        "indexed_df.select('proto_num').distinct().show()"
      ]
    },
    {
      "cell_type": "code",
      "execution_count": 70,
      "metadata": {
        "colab": {
          "base_uri": "https://localhost:8080/"
        },
        "id": "qGwAjOsd2QJE",
        "outputId": "22394d97-d79a-46dc-ffbc-848dfb8df56b"
      },
      "outputs": [
        {
          "output_type": "stream",
          "name": "stdout",
          "text": [
            "+--------------------+\n",
            "|            features|\n",
            "+--------------------+\n",
            "|[13.0,1.0,3.0,2.0...|\n",
            "|[13.0,1.0,3.0,3.0...|\n",
            "|[13.0,2.0,4.0,3.0...|\n",
            "|[13.0,2.0,2.0,3.0...|\n",
            "|[13.0,2.0,3.0,3.0...|\n",
            "|[13.0,2.0,2.0,2.0...|\n",
            "|[13.0,4.0,1.0,2.0...|\n",
            "|[13.0,0.0,0.0,2.0...|\n",
            "|[13.0,1.0,1.0,0.0...|\n",
            "|[13.0,4.0,3.0,2.0...|\n",
            "|[13.0,1.0,1.0,3.0...|\n",
            "|[13.0,4.0,0.0,3.0...|\n",
            "|[13.0,1.0,4.0,0.0...|\n",
            "|[13.0,2.0,1.0,0.0...|\n",
            "|[13.0,1.0,1.0,1.0...|\n",
            "|[13.0,1.0,4.0,3.0...|\n",
            "|[13.0,2.0,2.0,3.0...|\n",
            "|[13.0,2.0,4.0,1.0...|\n",
            "|[13.0,2.0,4.0,1.0...|\n",
            "|[13.0,0.0,0.0,2.0...|\n",
            "+--------------------+\n",
            "only showing top 20 rows\n",
            "\n",
            "root\n",
            " |-- timestamp: string (nullable = true)\n",
            " |-- duration: string (nullable = true)\n",
            " |-- type: string (nullable = false)\n",
            " |-- id_orig_p_num: double (nullable = false)\n",
            " |-- id_orig_h_num: double (nullable = false)\n",
            " |-- id_resp_h_num: double (nullable = false)\n",
            " |-- id_resp_p_num: double (nullable = false)\n",
            " |-- proto_num: double (nullable = false)\n",
            " |-- label_num: double (nullable = false)\n",
            " |-- features: vector (nullable = true)\n",
            "\n",
            "Accuracy: 0.6373561770387167\n"
          ]
        }
      ],
      "source": [
        "from pyspark.sql import SparkSession\n",
        "from pyspark.ml.feature import VectorAssembler\n",
        "from pyspark.ml.classification import RandomForestClassifier\n",
        "from pyspark.ml import Pipeline\n",
        "from pyspark.ml.evaluation import MulticlassClassificationEvaluator\n",
        "from pyspark.sql.functions import col\n",
        "from pyspark.ml.linalg import DenseVector, SparseVector, Vectors, VectorUDT\n",
        "from pyspark.sql import functions as F\n",
        "from pyspark.sql.types import *\n",
        "\n",
        "\n",
        "\n",
        "\n",
        "# Create a feature vector\n",
        "feature_cols = [\"id_orig_h_num\", \"id_orig_p_num\", \"id_resp_h_num\", \"id_resp_p_num\", 'proto_num']\n",
        "assembler = VectorAssembler(inputCols=feature_cols, outputCol=\"features\")\n",
        "indexed_df1 = assembler.transform(indexed_df)\n",
        "\n",
        "\n",
        "toDense = lambda v: Vectors.dense(v.toArray())\n",
        "toDenseUdf = F.udf(toDense, VectorUDT())\n",
        "indexed_df1 = indexed_df1.withColumn('features', toDenseUdf('features'))\n",
        "indexed_df1.select('features').show()\n",
        "\n",
        "# Split the data into training and test sets (80% training, 20% testing)\n",
        "(training_data, test_data) = indexed_df1.randomSplit([0.7, 0.3], seed=123)\n",
        "\n",
        "training_data.printSchema()\n",
        "\n",
        "# Initialize the Random Forest classifier\n",
        "rf = RandomForestClassifier(labelCol=\"label_num\", featuresCol=\"features\", numTrees=10)\n",
        "\n",
        "# Create a pipeline\n",
        "pipeline = Pipeline(stages=[rf])\n",
        "\n",
        "# Train the model\n",
        "model = pipeline.fit(training_data)\n",
        "# Make predictions on the test data\n",
        "predictions = model.transform(test_data)\n",
        "\n",
        "# Evaluate the model\n",
        "evaluator = MulticlassClassificationEvaluator(labelCol=\"label_num\", predictionCol=\"prediction\", metricName=\"accuracy\")\n",
        "accuracy = evaluator.evaluate(predictions)\n",
        "print(f\"Accuracy: {accuracy}\")"
      ]
    }
  ],
  "metadata": {
    "accelerator": "GPU",
    "colab": {
      "provenance": []
    },
    "kernelspec": {
      "display_name": "Python 3",
      "name": "python3"
    },
    "language_info": {
      "codemirror_mode": {
        "name": "ipython",
        "version": 3
      },
      "file_extension": ".py",
      "mimetype": "text/x-python",
      "name": "python",
      "nbconvert_exporter": "python",
      "pygments_lexer": "ipython3",
      "version": "3.11.4"
    }
  },
  "nbformat": 4,
  "nbformat_minor": 0
}